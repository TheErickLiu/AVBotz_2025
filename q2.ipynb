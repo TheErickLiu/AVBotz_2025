{
 "cells": [
  {
   "cell_type": "markdown",
   "metadata": {},
   "source": [
    "# Question 2"
   ]
  },
  {
   "cell_type": "markdown",
   "metadata": {},
   "source": [
    "### Conversion between quaternions and Euler angles\n",
    "\n",
    "References: \n",
    "- https://en.wikipedia.org/wiki/Conversion_between_quaternions_and_Euler_angles\n",
    "- https://www.anyleaf.org/blog/quaternions:-a-practical-guide\n",
    "- https://automaticaddison.com/how-to-convert-a-quaternion-into-euler-angles-in-python/\n",
    "\n",
    "Concepts:\n",
    "- Spatial rotations in three dimensions can be parametrized using both Euler angles and unit quaternions\n",
    "- A quaternion has 4 scalar values: qw (the real part) and qx qy qz (the imaginary part)"
   ]
  },
  {
   "cell_type": "code",
   "execution_count": 7,
   "metadata": {},
   "outputs": [],
   "source": [
    "# Convert quaternion (qx, qy, qz, qw) to Euler angles (yaw, pitch, roll) in degrees\n",
    "import math\n",
    "from typing import List\n",
    "\n",
    "class Quaternion:\n",
    "    def __init__(self, qlist: List[float]):\n",
    "        \"\"\"Init with [w, x, y, z]\"\"\"\n",
    "        self.w = qlist[0]\n",
    "        self.x = qlist[1]\n",
    "        self.y = qlist[2]\n",
    "        self.z = qlist[3]\n",
    "\n",
    "    def inverse(self) -> List[float]:\n",
    "        return [self.w, -self.x, -self.y, -self.z]\n"
   ]
  },
  {
   "cell_type": "code",
   "execution_count": 33,
   "metadata": {},
   "outputs": [
    {
     "name": "stdout",
     "output_type": "stream",
     "text": [
      "[1, -2, 0, 1]\n"
     ]
    }
   ],
   "source": [
    "# init quaternion\n",
    "q = Quaternion([1, 2, 0, -1])\n",
    "print(q.inverse())\n",
    "q_inv = Quaternion(q.inverse())"
   ]
  },
  {
   "cell_type": "markdown",
   "metadata": {},
   "source": [
    "#### Convert to Roll"
   ]
  },
  {
   "cell_type": "code",
   "execution_count": 40,
   "metadata": {},
   "outputs": [
    {
     "name": "stdout",
     "output_type": "stream",
     "text": [
      "4.0\n",
      "-7.0\n",
      "roll = 2.62244653934327\n",
      "roll degree = 150.25511870305778\n"
     ]
    }
   ],
   "source": [
    "def quaternion_to_roll(q: Quaternion):\n",
    "    \"\"\"Roll: x-axis rotation\"\"\"\n",
    "    sinr_cosp = 2.0 * (q.w * q.x + q.y * q.z)\n",
    "    print(sinr_cosp)\n",
    "    cosr_cosp = 1.0 - 2.0 * (q.x ** 2 + q.y ** 2)\n",
    "    print(cosr_cosp)\n",
    "    roll = math.atan2(sinr_cosp, cosr_cosp)\n",
    "    return roll\n",
    "\n",
    "roll = quaternion_to_roll(q)\n",
    "print(\"roll =\", roll)\n",
    "print(\"roll degree =\", math.degrees(roll))\n"
   ]
  },
  {
   "cell_type": "markdown",
   "metadata": {},
   "source": [
    "#### Convert to Yaw"
   ]
  },
  {
   "cell_type": "code",
   "execution_count": 38,
   "metadata": {},
   "outputs": [
    {
     "name": "stdout",
     "output_type": "stream",
     "text": [
      "-2.0\n",
      "-1.0\n",
      "yaw = -2.0344439357957027\n",
      "yaw degree = -116.56505117707799\n"
     ]
    }
   ],
   "source": [
    "def quaternion_to_yaw(q: Quaternion):\n",
    "    \"\"\"Yaw: z-axis rotation\"\"\"\n",
    "    siny_cosp = 2.0 * (q.w * q.z + q.x * q.y)\n",
    "    print(siny_cosp)\n",
    "    cosy_cosp = 1.0 - 2.0 * (q.y ** 2 + q.z ** 2)\n",
    "    print(cosy_cosp)\n",
    "    yaw = math.atan2(siny_cosp, cosy_cosp)\n",
    "    return yaw\n",
    "\n",
    "yaw = quaternion_to_yaw(q)\n",
    "print(\"yaw =\", yaw)\n",
    "print(\"yaw degree =\", math.degrees(yaw))"
   ]
  },
  {
   "cell_type": "markdown",
   "metadata": {},
   "source": [
    "#### Convert to Pitch"
   ]
  },
  {
   "cell_type": "code",
   "execution_count": 56,
   "metadata": {},
   "outputs": [
    {
     "ename": "ValueError",
     "evalue": "math domain error",
     "output_type": "error",
     "traceback": [
      "\u001b[0;31m---------------------------------------------------------------------------\u001b[0m",
      "\u001b[0;31mValueError\u001b[0m                                Traceback (most recent call last)",
      "Cell \u001b[0;32mIn[56], line 8\u001b[0m\n\u001b[1;32m      5\u001b[0m     pitch \u001b[38;5;241m=\u001b[39m \u001b[38;5;241m2.0\u001b[39m \u001b[38;5;241m*\u001b[39m math\u001b[38;5;241m.\u001b[39matan2(math\u001b[38;5;241m.\u001b[39msqrt(\u001b[38;5;241m1\u001b[39m\u001b[38;5;241m+\u001b[39msinp), math\u001b[38;5;241m.\u001b[39msqrt(\u001b[38;5;241m1\u001b[39m\u001b[38;5;241m-\u001b[39msinp)) \u001b[38;5;241m-\u001b[39m math\u001b[38;5;241m.\u001b[39mpi \u001b[38;5;241m/\u001b[39m \u001b[38;5;241m2\u001b[39m\n\u001b[1;32m      6\u001b[0m     \u001b[38;5;28;01mreturn\u001b[39;00m pitch\n\u001b[0;32m----> 8\u001b[0m \u001b[38;5;28mprint\u001b[39m(\u001b[43mquaternion_to_pitch_old\u001b[49m\u001b[43m(\u001b[49m\u001b[43mq\u001b[49m\u001b[43m)\u001b[49m)\n",
      "Cell \u001b[0;32mIn[56], line 5\u001b[0m, in \u001b[0;36mquaternion_to_pitch_old\u001b[0;34m(q)\u001b[0m\n\u001b[1;32m      3\u001b[0m sinp \u001b[38;5;241m=\u001b[39m \u001b[38;5;241m2.0\u001b[39m \u001b[38;5;241m*\u001b[39m (q\u001b[38;5;241m.\u001b[39mw \u001b[38;5;241m*\u001b[39m q\u001b[38;5;241m.\u001b[39my \u001b[38;5;241m-\u001b[39m q\u001b[38;5;241m.\u001b[39mz \u001b[38;5;241m*\u001b[39m q\u001b[38;5;241m.\u001b[39mx)\n\u001b[1;32m      4\u001b[0m \u001b[38;5;66;03m#print(sinp)\u001b[39;00m\n\u001b[0;32m----> 5\u001b[0m pitch \u001b[38;5;241m=\u001b[39m \u001b[38;5;241m2.0\u001b[39m \u001b[38;5;241m*\u001b[39m math\u001b[38;5;241m.\u001b[39matan2(math\u001b[38;5;241m.\u001b[39msqrt(\u001b[38;5;241m1\u001b[39m\u001b[38;5;241m+\u001b[39msinp), \u001b[43mmath\u001b[49m\u001b[38;5;241;43m.\u001b[39;49m\u001b[43msqrt\u001b[49m\u001b[43m(\u001b[49m\u001b[38;5;241;43m1\u001b[39;49m\u001b[38;5;241;43m-\u001b[39;49m\u001b[43msinp\u001b[49m\u001b[43m)\u001b[49m) \u001b[38;5;241m-\u001b[39m math\u001b[38;5;241m.\u001b[39mpi \u001b[38;5;241m/\u001b[39m \u001b[38;5;241m2\u001b[39m\n\u001b[1;32m      6\u001b[0m \u001b[38;5;28;01mreturn\u001b[39;00m pitch\n",
      "\u001b[0;31mValueError\u001b[0m: math domain error"
     ]
    }
   ],
   "source": [
    "def quaternion_to_pitch_old(q: Quaternion) -> float:\n",
    "    \"\"\"Pitch: y-axis rotation\"\"\"\n",
    "    sinp = 2.0 * (q.w * q.y - q.z * q.x)\n",
    "    #print(sinp)\n",
    "    pitch = 2.0 * math.atan2(math.sqrt(1+sinp), math.sqrt(1-sinp)) - math.pi / 2\n",
    "    return pitch\n",
    "\n",
    "print(quaternion_to_pitch_old(q))"
   ]
  },
  {
   "cell_type": "markdown",
   "metadata": {},
   "source": [
    "Directly follow the equation errored when `1 - sinp < 0`; Try another method"
   ]
  },
  {
   "cell_type": "code",
   "execution_count": 47,
   "metadata": {},
   "outputs": [
    {
     "name": "stdout",
     "output_type": "stream",
     "text": [
      "pitch = 1.5707963267948966\n",
      "pitch degree = 90.0\n"
     ]
    }
   ],
   "source": [
    "def quaternion_to_pitch(q: Quaternion) -> float:\n",
    "    \"\"\"Pitch: y-axis rotation\"\"\"\n",
    "    sinp = 2.0 * (q.w * q.y - q.z * q.x)\n",
    "    sinp = 1.0 if sinp > 1.0 else sinp\n",
    "    sinp = -1.0 if sinp < -1.0 else sinp\n",
    "    pitch = math.asin(sinp)\n",
    "    return pitch\n",
    "\n",
    "pitch = quaternion_to_pitch(q)\n",
    "print(\"pitch =\", pitch)\n",
    "print(\"pitch degree =\", math.degrees(pitch))"
   ]
  },
  {
   "cell_type": "code",
   "execution_count": 54,
   "metadata": {},
   "outputs": [],
   "source": [
    "def quaternion_to_euler_angles(qlist: List[float]):\n",
    "\n",
    "    q = Quaternion(qlist)\n",
    "    print(q.x, q.y, q.z, q.w)\n",
    "    roll = math.degrees(quaternion_to_roll(q))\n",
    "    pitch = math.degrees(quaternion_to_pitch(q))\n",
    "    yaw = math.degrees(quaternion_to_yaw(q))\n",
    "\n",
    "    return (roll, pitch, yaw)"
   ]
  },
  {
   "cell_type": "code",
   "execution_count": 55,
   "metadata": {},
   "outputs": [
    {
     "name": "stdout",
     "output_type": "stream",
     "text": [
      "[1, 2, 0, -1]\n",
      "2 0 -1 1\n",
      "4.0\n",
      "-7.0\n",
      "-2.0\n",
      "-1.0\n",
      "(roll, pitch, yaw) =  (150.25511870305778, 90.0, -116.56505117707799)\n",
      "[1, -2, 0, 1]\n",
      "-2 0 1 1\n",
      "-4.0\n",
      "-7.0\n",
      "2.0\n",
      "-1.0\n",
      "(roll, pitch, yaw) =  (-150.25511870305778, 90.0, 116.56505117707799)\n",
      "[0.7072, 0, 0, 0.7072]\n",
      "0 0 0.7072 0.7072\n",
      "0.0\n",
      "1.0\n",
      "1.0002636800000002\n",
      "-0.0002636800000002104\n",
      "(roll, pitch, yaw) =  (0.0, 0.0, 90.01510376823046)\n"
     ]
    }
   ],
   "source": [
    "# Test cases\n",
    "test_cases = [\n",
    "    [1, 2, 0, -1],\n",
    "    [1, -2, 0, 1],\n",
    "    [0.7072, 0, 0, 0.7072],\n",
    "]\n",
    "for test_case in test_cases:\n",
    "    print(test_case)\n",
    "    print(\"(roll, pitch, yaw) = \", quaternion_to_euler_angles(test_case))\n"
   ]
  }
 ],
 "metadata": {
  "kernelspec": {
   "display_name": "Python 3",
   "language": "python",
   "name": "python3"
  },
  "language_info": {
   "codemirror_mode": {
    "name": "ipython",
    "version": 3
   },
   "file_extension": ".py",
   "mimetype": "text/x-python",
   "name": "python",
   "nbconvert_exporter": "python",
   "pygments_lexer": "ipython3",
   "version": "3.10.6"
  }
 },
 "nbformat": 4,
 "nbformat_minor": 2
}
