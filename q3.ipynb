{
 "cells": [
  {
   "cell_type": "markdown",
   "metadata": {},
   "source": [
    "# Question 3"
   ]
  },
  {
   "cell_type": "markdown",
   "metadata": {},
   "source": [
    "### PID Controller\n",
    "\n",
    "The input being sent to the robot (from the PID Controller) will be the required torque on the motor.\n",
    "\n",
    "References:\n",
    "- https://modernrobotics.northwestern.edu/nu-gm-book-resource/11-4-motion-control-with-torque-or-force-inputs-part-1-of-3/\n",
    "- PID control torque = kp * position_error + ki * integral_of_error + kd * derivative_of_error"
   ]
  },
  {
   "cell_type": "code",
   "execution_count": 24,
   "metadata": {},
   "outputs": [],
   "source": [
    "class Controller:\n",
    "    def __init__(self, kp, ki, kd):\n",
    "        self.kp = kp # Proportional\n",
    "        self.ki = ki # Integral\n",
    "        self.kd = kd # Derivative\n",
    "        self.totalError = 0\n",
    "        self.prevError = 0\n",
    "        self.verbose = False # For testing\n",
    "\n",
    "    def output(self, currentTilt, setPoint, timeStep):\n",
    "        \n",
    "        error = setPoint - currentTilt\n",
    "        self.totalError += error * timeStep\n",
    "        dError = (error - self.prevError) / timeStep\n",
    "        if self.verbose:\n",
    "            print(\"totalError =\", self.totalError, \"dError =\", dError)\n",
    "\n",
    "        torque = (self.kp * error) + (self.ki * self.totalError) + (self.kd * dError)\n",
    "        if self.verbose:\n",
    "            print(\"torque =\", torque)\n",
    "\n",
    "        self.prevError = error\n",
    "        return torque"
   ]
  },
  {
   "cell_type": "code",
   "execution_count": 25,
   "metadata": {},
   "outputs": [
    {
     "name": "stdout",
     "output_type": "stream",
     "text": [
      "totalError = 1.0 dError = 100.0\n",
      "torque = 11.1\n",
      "11.1\n"
     ]
    }
   ],
   "source": [
    "# Testing\n",
    "ctl = Controller(1.0, 0.1, 0.01)\n",
    "ctl.verbose = True\n",
    "print(ctl.output(0, 10, 0.1))"
   ]
  },
  {
   "cell_type": "code",
   "execution_count": 26,
   "metadata": {},
   "outputs": [
    {
     "name": "stdout",
     "output_type": "stream",
     "text": [
      "totalError = 10 dError = 10.0\n",
      "torque = 551.0\n",
      "551.0\n"
     ]
    }
   ],
   "source": [
    "# Also testing\n",
    "ctl = Controller(50, 0.1, 5)\n",
    "ctl.verbose = True\n",
    "print(ctl.output(0, 10, 1))"
   ]
  },
  {
   "cell_type": "markdown",
   "metadata": {},
   "source": [
    "### Random Noise\n",
    "\n",
    "Simulate a random noise (environmental error force vector `Fe`) with a magnitude between `0N` and `1000N` from a distance between 0 and `diste` meters on every 30th timestep of your simulation."
   ]
  },
  {
   "cell_type": "code",
   "execution_count": 27,
   "metadata": {},
   "outputs": [
    {
     "name": "stdout",
     "output_type": "stream",
     "text": [
      "(891.4093373830294, 0.0658390686303406)\n",
      "(0, 0)\n",
      "(0, 0)\n",
      "(0, 0)\n",
      "(0, 0)\n",
      "(128.32363693457816, 0.02572010146771857)\n",
      "(0, 0)\n",
      "(0, 0)\n",
      "(0, 0)\n",
      "(0, 0)\n"
     ]
    }
   ],
   "source": [
    "import numpy as np\n",
    "def random_noise(diste, total_time_step, magnitude=1000, freq=30):\n",
    "    \"\"\" Calculate noise\n",
    "    \"\"\"\n",
    "    if total_time_step % freq == 0:\n",
    "        magnitude = np.random.uniform(-magnitude, magnitude)\n",
    "        distance = np.random.uniform(0, diste)\n",
    "        return magnitude, distance\n",
    "    return 0, 0\n",
    "\n",
    "\n",
    "for t in range(10):\n",
    "    print(random_noise(0.2, t, freq=5))"
   ]
  },
  {
   "cell_type": "markdown",
   "metadata": {},
   "source": [
    "#### Calculate Net Torque\n",
    "\n",
    "References\n",
    "- https://study.com/skill/learn/how-to-calculate-the-net-torque-on-an-object-from-multiple-forces-explanation.html"
   ]
  },
  {
   "cell_type": "code",
   "execution_count": 28,
   "metadata": {},
   "outputs": [
    {
     "name": "stdout",
     "output_type": "stream",
     "text": [
      "pid_torque = 3000.02\n"
     ]
    }
   ],
   "source": [
    "ctl = Controller(50, 0.1, 5)\n",
    "cur_tilt = 0\n",
    "setpoint = 10\n",
    "time_step = 0.02\n",
    "pid_torque = ctl.output(cur_tilt, setpoint, time_step)\n",
    "print(\"pid_torque =\", pid_torque)"
   ]
  },
  {
   "cell_type": "code",
   "execution_count": 29,
   "metadata": {},
   "outputs": [
    {
     "name": "stdout",
     "output_type": "stream",
     "text": [
      "0.7853981633974483\n",
      "noise_force = -904.5884145345036\n",
      "noise_dist = 0.19914330459731383\n",
      "noise_torque = -127.38014325683642\n"
     ]
    }
   ],
   "source": [
    "import numpy as np\n",
    "\n",
    "cur_tilt = 45\n",
    "print(np.radians(cur_tilt))\n",
    "\n",
    "diste = 0.5\n",
    "noise_force, noise_dist = random_noise(diste, 0)\n",
    "print(\"noise_force =\", noise_force)\n",
    "print(\"noise_dist =\", noise_dist)\n",
    "\n",
    "noise_torque = noise_force * noise_dist * np.sin(np.radians(cur_tilt))\n",
    "print(\"noise_torque =\", noise_torque)\n"
   ]
  },
  {
   "cell_type": "code",
   "execution_count": 30,
   "metadata": {},
   "outputs": [
    {
     "name": "stdout",
     "output_type": "stream",
     "text": [
      "net_torque = 2872.6398567431634\n"
     ]
    }
   ],
   "source": [
    "net_torque = pid_torque + noise_torque\n",
    "print(\"net_torque =\", net_torque)"
   ]
  },
  {
   "cell_type": "markdown",
   "metadata": {},
   "source": [
    "#### Calculate Tilt Change\n",
    "\n",
    "- Newton's second law for rotation: https://openstax.org/books/university-physics-volume-1/pages/10-7-newtons-second-law-for-rotation\n",
    "\n",
    "    If more than one torque acts on a rigid body about a fixed axis, then the sum of the torques equals the moment of inertia times the angular acceleration:  \n",
    "\n",
    "    ```\n",
    "    net_torque = moment_inertia * angular_acceleration\n",
    "    ```"
   ]
  },
  {
   "cell_type": "code",
   "execution_count": 31,
   "metadata": {},
   "outputs": [
    {
     "name": "stdout",
     "output_type": "stream",
     "text": [
      "tilt_change = 5.745279713486327\n"
     ]
    }
   ],
   "source": [
    "inertia = 0.2\n",
    "angularAcceleration = net_torque / inertia\n",
    "tilt_change = angularAcceleration * time_step ** 2\n",
    "print(\"tilt_change =\", tilt_change)"
   ]
  },
  {
   "cell_type": "markdown",
   "metadata": {},
   "source": [
    "### Simulation"
   ]
  },
  {
   "cell_type": "code",
   "execution_count": 32,
   "metadata": {},
   "outputs": [],
   "source": [
    "import numpy as np\n",
    "\n",
    "class Simulation:\n",
    "    def __init__(\n",
    "        self,\n",
    "        controller: Controller, # PID controller\n",
    "        robotMass: float,  # Example mass in kg\n",
    "        g: float,  # Gravity in m/s^2\n",
    "        I: float,  # Rotational inertia in kg*m^2\n",
    "        dist: float,  # Distance from rotational axis to motor in meters\n",
    "        diste: float,  # Maximum distance from rotational axis to noise force in meters\n",
    "        timeStep: float,  # Time step for simulation in seconds\n",
    "        currentPos: float,  # Initial tilt angle in degrees\n",
    "    ):\n",
    "        self.controller = controller\n",
    "        self.robotMass = robotMass\n",
    "        self.g = g\n",
    "        self.I = I\n",
    "        self.dist = dist\n",
    "        self.diste = diste\n",
    "        self.timeStep = timeStep\n",
    "        self.currentPos = currentPos\n",
    "        self.angles = [self.currentPos]\n",
    "        self.time = [0]\n",
    "        self.n = 0\n",
    "\n",
    "    def output(self, setpoint):\n",
    "        return self.controller.output(self.currentPos, setpoint, self.timeStep)\n",
    "\n",
    "    def noise(self):\n",
    "        return random_noise(self.diste, self.n)\n",
    "    \n",
    "    def simulate(self, setpoint, totalTime):\n",
    "\n",
    "        numSteps = int(totalTime / self.timeStep)\n",
    "\n",
    "        for _ in range(numSteps):\n",
    "            torque = self.output(setpoint)\n",
    "            noiseForce, noiseDistance = self.noise()\n",
    "\n",
    "            noiseTorque = (\n",
    "                noiseForce * noiseDistance * np.sin(np.radians(self.currentPos))\n",
    "            )\n",
    "\n",
    "            netTorque = torque + noiseTorque\n",
    "\n",
    "            angularAcceleration = netTorque / self.I\n",
    "            self.currentPos += angularAcceleration * self.timeStep ** 2\n",
    "\n",
    "            self.angles.append(self.currentPos)\n",
    "            self.time.append(self.time[-1] + self.timeStep)\n",
    "            self.n += 1\n",
    "\n",
    "        return self.time, self.angles\n"
   ]
  },
  {
   "cell_type": "markdown",
   "metadata": {},
   "source": [
    "### Plot Results"
   ]
  },
  {
   "cell_type": "code",
   "execution_count": 33,
   "metadata": {},
   "outputs": [],
   "source": [
    "def plot_angles(times, angles):\n",
    "    import matplotlib.pyplot as plt # type: ignore\n",
    "\n",
    "    plt.figure(figsize=(10, 5))\n",
    "    plt.plot(times, angles, label=\"Tilt Angle (Degrees)\")\n",
    "    plt.xlabel(\"Time (seconds)\")\n",
    "    plt.ylabel(\"Tilt Angle (degrees)\")\n",
    "    plt.title(\"Robot Tilt Angle over Time\")\n",
    "    plt.legend()\n",
    "    plt.grid(True)\n",
    "    plt.show()"
   ]
  },
  {
   "cell_type": "markdown",
   "metadata": {},
   "source": [
    "### Test Cases"
   ]
  },
  {
   "cell_type": "code",
   "execution_count": 34,
   "metadata": {},
   "outputs": [
    {
     "ename": "ModuleNotFoundError",
     "evalue": "No module named 'matplotlib'",
     "output_type": "error",
     "traceback": [
      "\u001b[0;31m---------------------------------------------------------------------------\u001b[0m",
      "\u001b[0;31mModuleNotFoundError\u001b[0m                       Traceback (most recent call last)",
      "Cell \u001b[0;32mIn[34], line 2\u001b[0m\n\u001b[1;32m      1\u001b[0m sim \u001b[38;5;241m=\u001b[39m Simulation(Controller(\u001b[38;5;241m1.0\u001b[39m, \u001b[38;5;241m0.1\u001b[39m, \u001b[38;5;241m0.01\u001b[39m), \u001b[38;5;241m1\u001b[39m, \u001b[38;5;241m9.8\u001b[39m, \u001b[38;5;241m0.1\u001b[39m, \u001b[38;5;241m0.5\u001b[39m, \u001b[38;5;241m0.2\u001b[39m, \u001b[38;5;241m0.1\u001b[39m, \u001b[38;5;241m0\u001b[39m)\n\u001b[0;32m----> 2\u001b[0m \u001b[43mplot_angles\u001b[49m\u001b[43m(\u001b[49m\u001b[38;5;241;43m*\u001b[39;49m\u001b[43msim\u001b[49m\u001b[38;5;241;43m.\u001b[39;49m\u001b[43msimulate\u001b[49m\u001b[43m(\u001b[49m\u001b[43msetpoint\u001b[49m\u001b[38;5;241;43m=\u001b[39;49m\u001b[38;5;241;43m10\u001b[39;49m\u001b[43m,\u001b[49m\u001b[43m \u001b[49m\u001b[43mtotalTime\u001b[49m\u001b[38;5;241;43m=\u001b[39;49m\u001b[38;5;241;43m30\u001b[39;49m\u001b[43m)\u001b[49m\u001b[43m)\u001b[49m\n",
      "Cell \u001b[0;32mIn[33], line 2\u001b[0m, in \u001b[0;36mplot_angles\u001b[0;34m(times, angles)\u001b[0m\n\u001b[1;32m      1\u001b[0m \u001b[38;5;28;01mdef\u001b[39;00m \u001b[38;5;21mplot_angles\u001b[39m(times, angles):\n\u001b[0;32m----> 2\u001b[0m     \u001b[38;5;28;01mimport\u001b[39;00m \u001b[38;5;21;01mmatplotlib\u001b[39;00m\u001b[38;5;21;01m.\u001b[39;00m\u001b[38;5;21;01mpyplot\u001b[39;00m \u001b[38;5;28;01mas\u001b[39;00m \u001b[38;5;21;01mplt\u001b[39;00m \u001b[38;5;66;03m# type: ignore\u001b[39;00m\n\u001b[1;32m      4\u001b[0m     plt\u001b[38;5;241m.\u001b[39mfigure(figsize\u001b[38;5;241m=\u001b[39m(\u001b[38;5;241m10\u001b[39m, \u001b[38;5;241m5\u001b[39m))\n\u001b[1;32m      5\u001b[0m     plt\u001b[38;5;241m.\u001b[39mplot(times, angles, label\u001b[38;5;241m=\u001b[39m\u001b[38;5;124m\"\u001b[39m\u001b[38;5;124mTilt Angle (Degrees)\u001b[39m\u001b[38;5;124m\"\u001b[39m)\n",
      "\u001b[0;31mModuleNotFoundError\u001b[0m: No module named 'matplotlib'"
     ]
    }
   ],
   "source": [
    "sim = Simulation(Controller(1.0, 0.1, 0.01), 1, 9.8, 0.1, 0.5, 0.2, 0.1, 0)\n",
    "plot_angles(*sim.simulate(setpoint=10, totalTime=30))"
   ]
  },
  {
   "cell_type": "code",
   "execution_count": null,
   "metadata": {},
   "outputs": [
    {
     "data": {
      "image/png": "[encoded data removed]",
      "text/plain": [
       "<Figure size 1000x500 with 1 Axes>"
      ]
     },
     "metadata": {},
     "output_type": "display_data"
    }
   ],
   "source": [
    "sim = Simulation(Controller(50, 0.1, 5), 9, 9.8, 0.2, 0.75, 0.5, 0.02, 0)\n",
    "plot_angles(*sim.simulate(setpoint=10, totalTime=8))"
   ]
  }
 ],
 "metadata": {
  "kernelspec": {
   "display_name": "Python 3",
   "language": "python",
   "name": "python3"
  },
  "language_info": {
   "codemirror_mode": {
    "name": "ipython",
    "version": 3
   },
   "file_extension": ".py",
   "mimetype": "text/x-python",
   "name": "python",
   "nbconvert_exporter": "python",
   "pygments_lexer": "ipython3",
   "version": "3.9.6"
  }
 },
 "nbformat": 4,
 "nbformat_minor": 2
}
